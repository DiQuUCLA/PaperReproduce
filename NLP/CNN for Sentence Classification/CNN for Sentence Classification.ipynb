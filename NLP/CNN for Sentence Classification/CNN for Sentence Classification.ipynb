{
 "cells": [
  {
   "cell_type": "code",
   "execution_count": 9,
   "metadata": {},
   "outputs": [],
   "source": [
    "import numpy as np\n",
    "import pandas as pd\n",
    "import matplotlib.pyplot as plot\n",
    "import re\n",
    "\n",
    "import torch\n",
    "import torch.nn as nn\n",
    "import torch.nn.functional as F\n",
    "\n",
    "from tqdm import tqdm_notebook"
   ]
  },
  {
   "cell_type": "markdown",
   "metadata": {},
   "source": [
    "# Load Data"
   ]
  },
  {
   "cell_type": "code",
   "execution_count": 33,
   "metadata": {},
   "outputs": [],
   "source": [
    "def string_clean(string):\n",
    "    string = re.sub(r\"[^A-Za-z0-9(),!?\\'\\`]\", \" \", string)     \n",
    "    string = re.sub(r\"\\'s\", \" \", string) \n",
    "    string = re.sub(r\"\\'ve\", \" \", string) \n",
    "    string = re.sub(r\"n\\'t\", \" \", string) \n",
    "    string = re.sub(r\"\\'re\", \" \", string) \n",
    "    string = re.sub(r\"\\'d\", \" \", string) \n",
    "    string = re.sub(r\"\\'ll\", \" \", string) \n",
    "    string = re.sub(r\",\", \" \", string) \n",
    "    string = re.sub(r\"!\", \" \", string) \n",
    "    string = re.sub(r\"\\(\", \" \", string) \n",
    "    string = re.sub(r\"\\)\", \" \", string) \n",
    "    string = re.sub(r\"\\?\", \" \", string) \n",
    "    string = re.sub(r\"\\s{2,}\", \" \", string)    \n",
    "    return string.strip().lower()"
   ]
  },
  {
   "cell_type": "code",
   "execution_count": 128,
   "metadata": {},
   "outputs": [],
   "source": [
    "# Load positive and negative data\n",
    "embedding_dict, word_idx = {}, {}\n",
    "with open(\"glove/glove.6B.300d.txt\", 'r', encoding='utf-8') as f:\n",
    "    for i, line in enumerate(f):\n",
    "        values = line.split()\n",
    "        word = values[0]\n",
    "        vector = np.asarray(values[1:], \"float32\")\n",
    "        word_idx[word] = i+1\n",
    "        embedding_dict[i+1] = vector"
   ]
  },
  {
   "cell_type": "code",
   "execution_count": 34,
   "metadata": {},
   "outputs": [],
   "source": [
    "# Load Data\n",
    "tf_threshold = 5\n",
    "\n",
    "positive_data, negative_data, tf = [], [], {}\n",
    "with open(\"Data/rt-polarity.pos\", 'r',encoding = \"ISO-8859-1\") as f:\n",
    "    for line in f:\n",
    "        line = string_clean(line)\n",
    "        words = line.split(\" \")\n",
    "        for word in words:\n",
    "            tf[word] = tf.get(word, 0) + 1\n",
    "        positive_data.append(words)\n",
    "\n",
    "with open(\"Data/rt-polarity.neg\", 'r',encoding = \"ISO-8859-1\") as f:\n",
    "    for line in f:\n",
    "        line = string_clean(line)\n",
    "        words = line.split(\" \")\n",
    "        for word in words:\n",
    "            tf[word] = tf.get(word, 0) + 1\n",
    "        negative_data.append(words)\n",
    "\n",
    "positive_data = [[word for word in line if tf[word] > tf_threshold] for line in positive_data]\n",
    "negative_data = [[word for word in line if tf[word] > tf_threshold] for line in negative_data]"
   ]
  },
  {
   "cell_type": "code",
   "execution_count": 124,
   "metadata": {},
   "outputs": [
    {
     "data": {
      "text/plain": [
       "49"
      ]
     },
     "execution_count": 124,
     "metadata": {},
     "output_type": "execute_result"
    }
   ],
   "source": [
    "max([len(doc) for doc in negative_data])"
   ]
  },
  {
   "cell_type": "code",
   "execution_count": 181,
   "metadata": {},
   "outputs": [],
   "source": [
    "cnn1 = nn.Conv2d(1, 100, (3, 300), 1, padding=(1,0))"
   ]
  },
  {
   "cell_type": "code",
   "execution_count": 200,
   "metadata": {},
   "outputs": [],
   "source": [
    "example = [embedding_dict[word_idx[word]] for word in positive_data[0] if word in word_idx]\n",
    "example += [np.zeros(300, dtype=np.float32)] * (50 - len(example))"
   ]
  },
  {
   "cell_type": "code",
   "execution_count": 201,
   "metadata": {},
   "outputs": [],
   "source": [
    "example = np.vstack(example)"
   ]
  },
  {
   "cell_type": "code",
   "execution_count": 174,
   "metadata": {},
   "outputs": [
    {
     "data": {
      "text/plain": [
       "(50, 300)"
      ]
     },
     "execution_count": 174,
     "metadata": {},
     "output_type": "execute_result"
    }
   ],
   "source": [
    "example.shape"
   ]
  },
  {
   "cell_type": "code",
   "execution_count": 203,
   "metadata": {},
   "outputs": [],
   "source": [
    "example = torch.tensor([example])"
   ]
  },
  {
   "cell_type": "code",
   "execution_count": 205,
   "metadata": {},
   "outputs": [
    {
     "data": {
      "text/plain": [
       "torch.Size([1, 50, 300])"
      ]
     },
     "execution_count": 205,
     "metadata": {},
     "output_type": "execute_result"
    }
   ],
   "source": [
    "example.shape"
   ]
  },
  {
   "cell_type": "code",
   "execution_count": 176,
   "metadata": {},
   "outputs": [
    {
     "data": {
      "text/plain": [
       "tensor([[[[ 0.0466,  0.2132, -0.0074,  ...,  0.0091, -0.2099,  0.0539],\n",
       "          [-0.1492,  0.0212, -0.3424,  ...,  0.6468, -0.3724, -0.0851],\n",
       "          [-0.1749,  0.2296,  0.2492,  ..., -0.2413, -0.4040,  0.0547],\n",
       "          ...,\n",
       "          [ 0.0000,  0.0000,  0.0000,  ...,  0.0000,  0.0000,  0.0000],\n",
       "          [ 0.0000,  0.0000,  0.0000,  ...,  0.0000,  0.0000,  0.0000],\n",
       "          [ 0.0000,  0.0000,  0.0000,  ...,  0.0000,  0.0000,  0.0000]]]])"
      ]
     },
     "execution_count": 176,
     "metadata": {},
     "output_type": "execute_result"
    }
   ],
   "source": [
    "example.view(1, 1, example.shape[0], -1)"
   ]
  },
  {
   "cell_type": "code",
   "execution_count": 182,
   "metadata": {},
   "outputs": [],
   "source": [
    "cnn1_out = cnn1(example.view(1, 1, example.shape[0], -1))"
   ]
  },
  {
   "cell_type": "code",
   "execution_count": 183,
   "metadata": {},
   "outputs": [
    {
     "data": {
      "text/plain": [
       "torch.Size([1, 100, 50, 1])"
      ]
     },
     "execution_count": 183,
     "metadata": {},
     "output_type": "execute_result"
    }
   ],
   "source": [
    "cnn1_out.shape"
   ]
  },
  {
   "cell_type": "code",
   "execution_count": 184,
   "metadata": {},
   "outputs": [],
   "source": [
    "max_pool1 = nn.MaxPool2d((50, 1), 1)"
   ]
  },
  {
   "cell_type": "code",
   "execution_count": 194,
   "metadata": {},
   "outputs": [
    {
     "data": {
      "text/plain": [
       "tensor([ 0.1212,  0.4196,  0.2795,  0.3341,  0.2226,  0.6094,  0.1546,  0.2416,\n",
       "         0.6674,  0.4087,  0.5708,  0.4205,  0.3769,  0.1018,  0.1418,  0.3450,\n",
       "         0.1363,  0.2967,  0.3514,  0.3392,  0.6232,  0.3852,  0.3943,  0.6143,\n",
       "         0.4259,  0.2466,  0.3566,  0.3468,  0.3936,  0.1709,  0.6027,  0.1455,\n",
       "         0.5588,  0.0249,  0.6435,  0.4619,  0.6818,  0.5475,  0.4456,  0.4555,\n",
       "         0.5190,  0.2502,  0.3175,  0.2492,  0.1273,  0.2588,  0.3416,  0.6059,\n",
       "        -0.0201,  0.1620,  0.2049,  0.5310,  0.3901,  0.2099,  0.1339,  0.2594,\n",
       "         0.2276,  0.2788,  0.1737,  0.3962,  0.3584,  0.2871,  0.1587,  0.3157,\n",
       "         0.1932,  0.3522,  0.3275,  0.1692,  0.1718,  0.5287,  0.1732,  0.2781,\n",
       "         0.2962,  0.3043,  0.3447,  0.6436,  0.3131,  0.2282,  0.1747,  0.3347,\n",
       "         0.4435,  0.3825,  0.4271,  0.3654,  0.3627,  0.1829,  0.3176,  0.4835,\n",
       "         0.2383,  0.6155,  0.3340,  0.5330,  0.4106,  0.3284,  0.3735,  0.4090,\n",
       "         0.2674,  0.4157,  0.2181,  0.4646], grad_fn=<SqueezeBackward0>)"
      ]
     },
     "execution_count": 194,
     "metadata": {},
     "output_type": "execute_result"
    }
   ],
   "source": [
    "max_pool1(cnn1_out).squeeze()"
   ]
  },
  {
   "cell_type": "code",
   "execution_count": 223,
   "metadata": {},
   "outputs": [],
   "source": [
    "class CnnRandom(nn.Module):\n",
    "    def __init__(self, num_filters, filter_sizes, embedding_size, number_words, out_channels, doc_length, drop_rate=0.5):\n",
    "        super(CnnRandom,self).__init__()\n",
    "        assert num_filters == len(filter_sizes)\n",
    "        self.embeddings = nn.Embedding(number_words+1, embedding_size)\n",
    "        self.cnns = []\n",
    "        self.pools = []\n",
    "        for filter_size in filter_sizes:\n",
    "            self.cnns.append(nn.Conv2d(1, 100, (filter_size, 300), 1))\n",
    "            self.pools.append(nn.MaxPool2d((doc_length+1-filter_size, 1), 1))\n",
    "        \n",
    "        self.linear = nn.Linear(out_channels * num_filters, 1)\n",
    "        self.drop = nn.Dropout(p=drop_rate)\n",
    "        self.sigmoid = nn.Sigmoid()\n",
    "    \n",
    "    def forward(self, sents):\n",
    "        X = self.embeddings(sents)\n",
    "        X_features = []\n",
    "        for cnn, pool in zip(self.cnns, self.pools):\n",
    "            X_features.append(pool(cnn(X.view(X.shape[0], 1, X.shape[1], -1))).squeeze())        \n",
    "        X = torch.cat(X_features, 0)\n",
    "        X = self.drop(self.linear(X))\n",
    "        return self.sigmoid(X)"
   ]
  },
  {
   "cell_type": "code",
   "execution_count": 226,
   "metadata": {},
   "outputs": [],
   "source": [
    "cr = CnnRandom(3, [3,4,5], 300, len(embedding_dict), 100, 50)"
   ]
  },
  {
   "cell_type": "code",
   "execution_count": 227,
   "metadata": {},
   "outputs": [
    {
     "data": {
      "text/plain": [
       "tensor([0.2004], grad_fn=<SigmoidBackward>)"
      ]
     },
     "execution_count": 227,
     "metadata": {},
     "output_type": "execute_result"
    }
   ],
   "source": [
    "example = [word_idx[word] for word in positive_data[0] if word in word_idx]\n",
    "example += [0] * (50 - len(example))\n",
    "example = np.vstack(example)\n",
    "example = torch.tensor([example])\n",
    "cr(example)"
   ]
  },
  {
   "cell_type": "code",
   "execution_count": null,
   "metadata": {},
   "outputs": [],
   "source": []
  }
 ],
 "metadata": {
  "kernelspec": {
   "display_name": "Python 3",
   "language": "python",
   "name": "python3"
  },
  "language_info": {
   "codemirror_mode": {
    "name": "ipython",
    "version": 3
   },
   "file_extension": ".py",
   "mimetype": "text/x-python",
   "name": "python",
   "nbconvert_exporter": "python",
   "pygments_lexer": "ipython3",
   "version": "3.6.9"
  }
 },
 "nbformat": 4,
 "nbformat_minor": 2
}
