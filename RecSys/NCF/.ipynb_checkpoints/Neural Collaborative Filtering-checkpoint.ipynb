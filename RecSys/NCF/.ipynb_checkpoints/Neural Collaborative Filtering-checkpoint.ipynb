{
 "cells": [
  {
   "cell_type": "code",
   "execution_count": null,
   "metadata": {},
   "outputs": [],
   "source": [
    "import warnings\n",
    "warnings.filterwarnings(\"ignore\")\n",
    "\n",
    "import numpy as np\n",
    "import pandas as pd\n",
    "import matplotlib.pyplot as plt\n",
    "\n",
    "import torch\n",
    "import torch.nn as nn\n",
    "import torch.nn.functional as F\n",
    "\n",
    "from tqdm import tqdm_notebook"
   ]
  },
  {
   "cell_type": "markdown",
   "metadata": {},
   "source": [
    "# Model Structure"
   ]
  },
  {
   "cell_type": "code",
   "execution_count": null,
   "metadata": {},
   "outputs": [],
   "source": [
    "class MF(nn.Module):\n",
    "    def __init__(self, dim, num_users, num_items):\n",
    "        super(MF, self).__init__()\n",
    "        self.user_embeddings = nn.Embedding(num_users+1, dim)\n",
    "        self.item_embeddings = nn.Embedding(num_items+1, dim)\n",
    "        self.linear  = nn.Linear(dim, 1)\n",
    "        self.sigmoid = nn.Sigmoid()\n",
    "        \n",
    "    def forward(self, user_id, item_id):\n",
    "        user_embedding = self.user_embeddings(user_id)\n",
    "        item_embedding = self.item_embeddings(item_id)\n",
    "        \n",
    "        cross_value = user_embedding * item_embedding\n",
    "        return cross_value\n",
    "    \n",
    "class MLP(nn.Module):\n",
    "    def __init__(self, dim, num_users, num_items, layer_sizes):\n",
    "        super(MLP, self).__init__()\n",
    "        self.user_embeddings = nn.Embedding(num_users+1, dim)\n",
    "        self.item_embeddings = nn.Embedding(num_items+1, dim)\n",
    "        \n",
    "        self.linears = []\n",
    "        prev_size = dim * 2\n",
    "        for layer in layer_sizes:\n",
    "            self.linears.append(nn.Linear(prev_size, layer))\n",
    "            prev_size = layer\n",
    "    \n",
    "        self.relu = nn.ReLU()\n",
    "    def forward(self, user_id, item_id):\n",
    "        user_embedding = self.user_embeddings(user_id)\n",
    "        item_embedding = self.item_embeddings(item_id)\n",
    "        \n",
    "        input_embedding = torch.cat((user_embedding, item_embedding), 2)\n",
    "        for linear in self.linears:\n",
    "            input_embedding = linear(input_embedding)\n",
    "            input_embedding = self.relu(input_embedding)\n",
    "        return input_embedding\n",
    "    \n",
    "class NCF(nn.Module):\n",
    "    def __init__(self, num_users, num_items, MF_dim, MLP_dim, MLP_layers):\n",
    "        super(NCF,self).__init__()\n",
    "        self.mf = MF(MF_dim, num_users, num_items)\n",
    "        self.mlp = MLP(MLP_dim, num_users, num_items, MLP_layers)\n",
    "        \n",
    "        self.linear = nn.Linear(MF_dim + MLP_layers[-1], 1)\n",
    "        self.sigmoid = nn.Sigmoid()\n",
    "        \n",
    "    def forward(self, user_id, item_id):\n",
    "        MF_features = self.mf(user_id, item_id)\n",
    "        MLP_features = self.mlp(user_id, item_id)\n",
    "        \n",
    "        input_features = torch.cat((MF_features, MLP_features), 2)\n",
    "        X = self.linear(input_features)\n",
    "        return self.sigmoid(X)"
   ]
  },
  {
   "cell_type": "markdown",
   "metadata": {},
   "source": [
    "# Data"
   ]
  },
  {
   "cell_type": "code",
   "execution_count": null,
   "metadata": {},
   "outputs": [],
   "source": [
    "movie_1m_ratings = pd.read_csv(\"Data/ml-1m/ratings.dat\", sep=\"::\", names=['user_id', 'item_id', 'rating', 'timestamp'], engine=\"python\")\n",
    "num_users = movie_1m_ratings.user_id.unique().shape[0]\n",
    "num_movies = movie_1m_ratings.item_id.unique().shape[0]"
   ]
  },
  {
   "cell_type": "code",
   "execution_count": null,
   "metadata": {},
   "outputs": [],
   "source": [
    "sparsity = 1 - len(movie_1m_ratings) / (num_users * num_movies)\n",
    "print(\"number of users: {}, number of movies: {}, sparsity: {}\".format(num_users, num_movies, sparsity))\n",
    "movie_1m_ratings.head(5)"
   ]
  },
  {
   "cell_type": "code",
   "execution_count": null,
   "metadata": {},
   "outputs": [],
   "source": [
    "valid_user = []\n",
    "for i, satisfied in enumerate(movie_1m_ratings.groupby(\"user_id\").size() > 20):\n",
    "    if satisfied:\n",
    "        valid_user.append(i+1)"
   ]
  },
  {
   "cell_type": "code",
   "execution_count": null,
   "metadata": {},
   "outputs": [],
   "source": [
    "valid_ratings = movie_1m_ratings[movie_1m_ratings.user_id.isin(valid_user)]\n",
    "valid_ratings"
   ]
  },
  {
   "cell_type": "code",
   "execution_count": null,
   "metadata": {},
   "outputs": [],
   "source": [
    "X, y\n",
    "for rating in valid_ratings.iterrows():\n",
    "    print(rating[1])"
   ]
  },
  {
   "cell_type": "code",
   "execution_count": null,
   "metadata": {},
   "outputs": [],
   "source": [
    "rating[1][\"user_id\"]"
   ]
  },
  {
   "cell_type": "code",
   "execution_count": null,
   "metadata": {},
   "outputs": [],
   "source": []
  }
 ],
 "metadata": {
  "kernelspec": {
   "display_name": "Python 3",
   "language": "python",
   "name": "python3"
  },
  "language_info": {
   "codemirror_mode": {
    "name": "ipython",
    "version": 3
   },
   "file_extension": ".py",
   "mimetype": "text/x-python",
   "name": "python",
   "nbconvert_exporter": "python",
   "pygments_lexer": "ipython3",
   "version": "3.6.9"
  }
 },
 "nbformat": 4,
 "nbformat_minor": 2
}
