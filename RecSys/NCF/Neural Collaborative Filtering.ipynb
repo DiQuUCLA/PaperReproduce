{
 "cells": [
  {
   "cell_type": "code",
   "execution_count": 1,
   "metadata": {},
   "outputs": [],
   "source": [
    "import warnings\n",
    "warnings.filterwarnings(\"ignore\")\n",
    "%load_ext autoreload\n",
    "%autoreload 2\n",
    "\n",
    "import numpy as np\n",
    "import pandas as pd\n",
    "import matplotlib.pyplot as plt\n",
    "\n",
    "import torch\n",
    "import torch.nn as nn\n",
    "import torch.nn.functional as F\n",
    "from torch.utils.data import DataLoader, Dataset,TensorDataset\n",
    "\n",
    "from tqdm import tqdm_notebook"
   ]
  },
  {
   "cell_type": "markdown",
   "metadata": {},
   "source": [
    "# Model Structure"
   ]
  },
  {
   "cell_type": "code",
   "execution_count": 2,
   "metadata": {},
   "outputs": [],
   "source": [
    "class MF(nn.Module):\n",
    "    def __init__(self, dim, num_users, num_items):\n",
    "        super(MF, self).__init__()\n",
    "        self.user_embeddings = nn.Embedding(num_users+1, dim)\n",
    "        self.item_embeddings = nn.Embedding(num_items+1, dim)\n",
    "\n",
    "    def forward(self, user_id, item_id):\n",
    "        user_embedding = self.user_embeddings(user_id)\n",
    "        item_embedding = self.item_embeddings(item_id)\n",
    "        \n",
    "        cross_value = user_embedding * item_embedding\n",
    "        return cross_value\n",
    "    \n",
    "class MLP(nn.Module):\n",
    "    def __init__(self, dim, num_users, num_items, layer_sizes):\n",
    "        super(MLP, self).__init__()\n",
    "        self.user_embeddings = nn.Embedding(num_users+1, dim)\n",
    "        self.item_embeddings = nn.Embedding(num_items+1, dim)\n",
    "        \n",
    "        self.linears = []\n",
    "        prev_size = dim * 2\n",
    "        for layer in layer_sizes:\n",
    "            self.linears.append(nn.Linear(prev_size, layer))\n",
    "            prev_size = layer\n",
    "    \n",
    "        self.relu = nn.ReLU()\n",
    "    def forward(self, user_id, item_id):\n",
    "        user_embedding = self.user_embeddings(user_id)\n",
    "        item_embedding = self.item_embeddings(item_id)\n",
    "        \n",
    "        input_embedding = torch.cat((user_embedding, item_embedding), 1)\n",
    "        for linear in self.linears:\n",
    "            input_embedding = linear(input_embedding)\n",
    "            input_embedding = self.relu(input_embedding)\n",
    "        return input_embedding\n",
    "    \n",
    "class NCF(nn.Module):\n",
    "    def __init__(self, num_users, num_items, MF_dim, MLP_dim, MLP_layers):\n",
    "        super(NCF,self).__init__()\n",
    "        self.mf = MF(MF_dim, num_users, num_items)\n",
    "        self.mlp = MLP(MLP_dim, num_users, num_items, MLP_layers)\n",
    "        \n",
    "        self.linear = nn.Linear(MF_dim + MLP_layers[-1], 1)\n",
    "        self.sigmoid = nn.Sigmoid()\n",
    "        \n",
    "    def forward(self, user_id, item_id):\n",
    "        MF_features = self.mf(user_id, item_id)\n",
    "        MLP_features = self.mlp(user_id, item_id)\n",
    "        \n",
    "        input_features = torch.cat((MF_features, MLP_features), 1)\n",
    "        X = self.linear(input_features)\n",
    "        return self.sigmoid(X)"
   ]
  },
  {
   "cell_type": "markdown",
   "metadata": {},
   "source": [
    "# Data"
   ]
  },
  {
   "cell_type": "code",
   "execution_count": 3,
   "metadata": {},
   "outputs": [],
   "source": [
    "movie_1m_ratings = pd.read_csv(\"Data/ml-1m/ratings.dat\", sep=\"::\", names=['user_id', 'item_id', 'rating', 'timestamp'], engine=\"python\")\n",
    "num_users = movie_1m_ratings.user_id.unique().shape[0]\n",
    "num_movies = movie_1m_ratings.item_id.unique().shape[0]"
   ]
  },
  {
   "cell_type": "code",
   "execution_count": 4,
   "metadata": {},
   "outputs": [],
   "source": [
    "max_user_id = max(movie_1m_ratings.user_id)\n",
    "max_movieId = max(movie_1m_ratings.item_id)"
   ]
  },
  {
   "cell_type": "code",
   "execution_count": 5,
   "metadata": {},
   "outputs": [
    {
     "name": "stdout",
     "output_type": "stream",
     "text": [
      "number of users: 6040, number of movies: 3706, sparsity: 0.9553163743776871\n"
     ]
    },
    {
     "data": {
      "text/html": [
       "<div>\n",
       "<style scoped>\n",
       "    .dataframe tbody tr th:only-of-type {\n",
       "        vertical-align: middle;\n",
       "    }\n",
       "\n",
       "    .dataframe tbody tr th {\n",
       "        vertical-align: top;\n",
       "    }\n",
       "\n",
       "    .dataframe thead th {\n",
       "        text-align: right;\n",
       "    }\n",
       "</style>\n",
       "<table border=\"1\" class=\"dataframe\">\n",
       "  <thead>\n",
       "    <tr style=\"text-align: right;\">\n",
       "      <th></th>\n",
       "      <th>user_id</th>\n",
       "      <th>item_id</th>\n",
       "      <th>rating</th>\n",
       "      <th>timestamp</th>\n",
       "    </tr>\n",
       "  </thead>\n",
       "  <tbody>\n",
       "    <tr>\n",
       "      <th>0</th>\n",
       "      <td>1</td>\n",
       "      <td>1193</td>\n",
       "      <td>5</td>\n",
       "      <td>978300760</td>\n",
       "    </tr>\n",
       "    <tr>\n",
       "      <th>1</th>\n",
       "      <td>1</td>\n",
       "      <td>661</td>\n",
       "      <td>3</td>\n",
       "      <td>978302109</td>\n",
       "    </tr>\n",
       "    <tr>\n",
       "      <th>2</th>\n",
       "      <td>1</td>\n",
       "      <td>914</td>\n",
       "      <td>3</td>\n",
       "      <td>978301968</td>\n",
       "    </tr>\n",
       "    <tr>\n",
       "      <th>3</th>\n",
       "      <td>1</td>\n",
       "      <td>3408</td>\n",
       "      <td>4</td>\n",
       "      <td>978300275</td>\n",
       "    </tr>\n",
       "    <tr>\n",
       "      <th>4</th>\n",
       "      <td>1</td>\n",
       "      <td>2355</td>\n",
       "      <td>5</td>\n",
       "      <td>978824291</td>\n",
       "    </tr>\n",
       "  </tbody>\n",
       "</table>\n",
       "</div>"
      ],
      "text/plain": [
       "   user_id  item_id  rating  timestamp\n",
       "0        1     1193       5  978300760\n",
       "1        1      661       3  978302109\n",
       "2        1      914       3  978301968\n",
       "3        1     3408       4  978300275\n",
       "4        1     2355       5  978824291"
      ]
     },
     "execution_count": 5,
     "metadata": {},
     "output_type": "execute_result"
    }
   ],
   "source": [
    "sparsity = 1 - len(movie_1m_ratings) / (num_users * num_movies)\n",
    "print(\"number of users: {}, number of movies: {}, sparsity: {}\".format(num_users, num_movies, sparsity))\n",
    "movie_1m_ratings.head(5)"
   ]
  },
  {
   "cell_type": "code",
   "execution_count": 6,
   "metadata": {},
   "outputs": [],
   "source": [
    "valid_user = []\n",
    "for i, satisfied in enumerate(movie_1m_ratings.groupby(\"user_id\").size() > 20):\n",
    "    if satisfied:\n",
    "        valid_user.append(i+1)"
   ]
  },
  {
   "cell_type": "code",
   "execution_count": 8,
   "metadata": {},
   "outputs": [
    {
     "data": {
      "text/html": [
       "<div>\n",
       "<style scoped>\n",
       "    .dataframe tbody tr th:only-of-type {\n",
       "        vertical-align: middle;\n",
       "    }\n",
       "\n",
       "    .dataframe tbody tr th {\n",
       "        vertical-align: top;\n",
       "    }\n",
       "\n",
       "    .dataframe thead th {\n",
       "        text-align: right;\n",
       "    }\n",
       "</style>\n",
       "<table border=\"1\" class=\"dataframe\">\n",
       "  <thead>\n",
       "    <tr style=\"text-align: right;\">\n",
       "      <th></th>\n",
       "      <th>user_id</th>\n",
       "      <th>item_id</th>\n",
       "      <th>rating</th>\n",
       "      <th>timestamp</th>\n",
       "    </tr>\n",
       "  </thead>\n",
       "  <tbody>\n",
       "    <tr>\n",
       "      <th>0</th>\n",
       "      <td>1</td>\n",
       "      <td>1193</td>\n",
       "      <td>5</td>\n",
       "      <td>978300760</td>\n",
       "    </tr>\n",
       "    <tr>\n",
       "      <th>1</th>\n",
       "      <td>1</td>\n",
       "      <td>661</td>\n",
       "      <td>3</td>\n",
       "      <td>978302109</td>\n",
       "    </tr>\n",
       "    <tr>\n",
       "      <th>2</th>\n",
       "      <td>1</td>\n",
       "      <td>914</td>\n",
       "      <td>3</td>\n",
       "      <td>978301968</td>\n",
       "    </tr>\n",
       "    <tr>\n",
       "      <th>3</th>\n",
       "      <td>1</td>\n",
       "      <td>3408</td>\n",
       "      <td>4</td>\n",
       "      <td>978300275</td>\n",
       "    </tr>\n",
       "    <tr>\n",
       "      <th>4</th>\n",
       "      <td>1</td>\n",
       "      <td>2355</td>\n",
       "      <td>5</td>\n",
       "      <td>978824291</td>\n",
       "    </tr>\n",
       "    <tr>\n",
       "      <th>...</th>\n",
       "      <td>...</td>\n",
       "      <td>...</td>\n",
       "      <td>...</td>\n",
       "      <td>...</td>\n",
       "    </tr>\n",
       "    <tr>\n",
       "      <th>1000204</th>\n",
       "      <td>6040</td>\n",
       "      <td>1091</td>\n",
       "      <td>1</td>\n",
       "      <td>956716541</td>\n",
       "    </tr>\n",
       "    <tr>\n",
       "      <th>1000205</th>\n",
       "      <td>6040</td>\n",
       "      <td>1094</td>\n",
       "      <td>5</td>\n",
       "      <td>956704887</td>\n",
       "    </tr>\n",
       "    <tr>\n",
       "      <th>1000206</th>\n",
       "      <td>6040</td>\n",
       "      <td>562</td>\n",
       "      <td>5</td>\n",
       "      <td>956704746</td>\n",
       "    </tr>\n",
       "    <tr>\n",
       "      <th>1000207</th>\n",
       "      <td>6040</td>\n",
       "      <td>1096</td>\n",
       "      <td>4</td>\n",
       "      <td>956715648</td>\n",
       "    </tr>\n",
       "    <tr>\n",
       "      <th>1000208</th>\n",
       "      <td>6040</td>\n",
       "      <td>1097</td>\n",
       "      <td>4</td>\n",
       "      <td>956715569</td>\n",
       "    </tr>\n",
       "  </tbody>\n",
       "</table>\n",
       "<p>998489 rows × 4 columns</p>\n",
       "</div>"
      ],
      "text/plain": [
       "         user_id  item_id  rating  timestamp\n",
       "0              1     1193       5  978300760\n",
       "1              1      661       3  978302109\n",
       "2              1      914       3  978301968\n",
       "3              1     3408       4  978300275\n",
       "4              1     2355       5  978824291\n",
       "...          ...      ...     ...        ...\n",
       "1000204     6040     1091       1  956716541\n",
       "1000205     6040     1094       5  956704887\n",
       "1000206     6040      562       5  956704746\n",
       "1000207     6040     1096       4  956715648\n",
       "1000208     6040     1097       4  956715569\n",
       "\n",
       "[998489 rows x 4 columns]"
      ]
     },
     "execution_count": 8,
     "metadata": {},
     "output_type": "execute_result"
    }
   ],
   "source": [
    "valid_ratings = movie_1m_ratings[movie_1m_ratings.user_id.isin(valid_user)]\n",
    "valid_ratings"
   ]
  },
  {
   "cell_type": "code",
   "execution_count": 9,
   "metadata": {},
   "outputs": [],
   "source": [
    "user_choice_dict = {}\n",
    "for _, rating in valid_ratings.iterrows():\n",
    "    user, item = rating[\"user_id\"], rating[\"item_id\"]\n",
    "    if user not in user_choice_dict:\n",
    "        user_choice_dict[user] = []\n",
    "    user_choice_dict[user].append(item)"
   ]
  },
  {
   "cell_type": "code",
   "execution_count": null,
   "metadata": {},
   "outputs": [],
   "source": [
    "def generate_train_test(user_choice_dict, train_ratio, negative_count):\n",
    "    X_train, y_train, X_test, y_test = [], [], [], []\n",
    "    for user in user_choice_dict:\n",
    "        viewed_movies = user_choice_dict[user]\n",
    "        negative_sample = np.random.choice([movie for movie in range(1, num_movies+1) if movie not in viewed_movies], negative_count)\n",
    "        \n",
    "        #Positive train test split\n",
    "        train_size, test_size = int(len(viewed_movies) * train_ratio), len(viewed_movies) - int(len(viewed_movies) * train_ratio)\n",
    "        for movie in viewed_movies[:train_size]:\n",
    "            X_train.append([user, movie])\n",
    "            y_train.append(1)\n",
    "        for movie in viewed_movies[:test_size]:\n",
    "            X_test.append([user, movie])\n",
    "            y_test.append(1)\n",
    "        \n",
    "        #Negative train test split\n",
    "        train_neg_size, test_neg_size = int(len(negative_sample) * train_ratio), len(negative_sample) - int(len(negative_sample) * train_ratio)\n",
    "        for movie in negative_sample[:train_size]:\n",
    "            X_train.append([user, movie])\n",
    "            y_train.append(0)\n",
    "        for movie in negative_sample[:test_size]:\n",
    "            X_test.append([user, movie])\n",
    "            y_test.append(0)\n",
    "        \n",
    "    return np.array(X_train), np.array(y_train), np.array(X_test), np.array(y_test)\n",
    "    \n",
    "train_X, train_y, test_X, test_y = generate_train_test(user_choice_dict, 0.9, 100)"
   ]
  },
  {
   "cell_type": "code",
   "execution_count": null,
   "metadata": {},
   "outputs": [],
   "source": [
    "train_X, train_y, test_X, test_y = torch.from_numpy(train_X), torch.from_numpy(train_y), torch.from_numpy(test_X), torch.from_numpy(test_y),\n",
    "train_dataset = TensorDataset(train_X, train_y)\n",
    "test_dataset = TensorDataset(test_X, test_y)"
   ]
  },
  {
   "cell_type": "code",
   "execution_count": null,
   "metadata": {},
   "outputs": [],
   "source": [
    "train_loader = DataLoader(train_dataset, batch_size=32, shuffle=True)\n",
    "test_loader = DataLoader(test_dataset, batch_size=32, shuffle=False)"
   ]
  },
  {
   "cell_type": "code",
   "execution_count": 71,
   "metadata": {},
   "outputs": [],
   "source": [
    "def ndcg_score(true_rel, pred_rel, k=10):\n",
    "    top_k = np.argsort(pred_rel)[::-1][:k]\n",
    "    DCG = 0\n",
    "    for i, k in enumerate(top_k):\n",
    "        DCG += true_rel[k] / np.log2(i+2)\n",
    "    \n",
    "    \n",
    "    top_real_k = np.argsort(true_rel)[::-1][:k]\n",
    "    iDCG = 0\n",
    "    for i, k in enumerate(top_real_k):\n",
    "        iDCG += true_rel[k] / np.log2(i+2)\n",
    "    #print(iDCG)\n",
    "    return DCG / iDCG"
   ]
  },
  {
   "cell_type": "code",
   "execution_count": 72,
   "metadata": {},
   "outputs": [],
   "source": [
    "def accuarcy(y_pred, y_true):\n",
    "    return ((y_pred > 0.5) == y_true).float().mean()\n",
    "\n",
    "def train_model(model, train_loader, test_loader, max_epoch, lr):\n",
    "    loss_fn = nn.BCELoss()\n",
    "    optimizer = torch.optim.Adam(model.parameters(), lr)\n",
    "    epoch_acc = evaluate(model, test_loader)\n",
    "    print(\"epoch {}, test acc: {}\".format(0, epoch_acc))\n",
    "    for epoch in range(max_epoch):\n",
    "        epoch_loss = 0\n",
    "        step = 0\n",
    "        \n",
    "        for batch, labels in tqdm_notebook(train_loader):\n",
    "            y_pred = model(batch[:, 0], batch[:, 1])\n",
    "            loss = loss_fn(y_pred, labels.float())\n",
    "            epoch_loss += loss\n",
    "            \n",
    "            optimizer.zero_grad()\n",
    "            loss.backward()\n",
    "            optimizer.step()\n",
    "            \n",
    "            step += 1\n",
    "        hr, ndcg = evaluate(model, test_loader)\n",
    "        print(\"epoch {} loss: {}, test hr: {}, test ndcg: {}\".format(epoch+1, epoch_loss / step, hr, ndcg))\n",
    "        \n",
    "    return model\n",
    "\n",
    "def evaluate(model, test_loader):\n",
    "    users = {}\n",
    "    with torch.no_grad():\n",
    "        for batch, labels in test_loader:\n",
    "            y_pred = model(batch[:, 0], batch[:, 1])\n",
    "            y_pred.squeeze()\n",
    "            for user, label, pred in zip(batch[:, 0], labels, y_pred):\n",
    "                user, label, pred = int(user), int(label), float(pred)\n",
    "                if user not in users:\n",
    "                    users[user] = []\n",
    "                users[user].append((pred,label))\n",
    "    hr, ndcg_10 = [], []\n",
    "    #print(users)\n",
    "    for user in users:\n",
    "        users[user].sort()\n",
    "        preds = [pair[0] for pair in users[user]]\n",
    "        labels = [pair[1] for pair in users[user]]\n",
    "        if 1 in labels[-10:]:\n",
    "            hr.append(1)\n",
    "        else:\n",
    "            hr.append(0)\n",
    "            \n",
    "        ndcg_10.append(ndcg_score(labels, preds))\n",
    "    return np.mean(hr), np.mean(ndcg_10)"
   ]
  },
  {
   "cell_type": "code",
   "execution_count": 73,
   "metadata": {},
   "outputs": [
    {
     "name": "stdout",
     "output_type": "stream",
     "text": [
      "epoch 0, test acc: (0.10043668122270742, 0.04568414541542124)\n"
     ]
    },
    {
     "data": {
      "application/vnd.jupyter.widget-view+json": {
       "model_id": "74080d9cd5804477b6ca9b0992ccd452",
       "version_major": 2,
       "version_minor": 0
      },
      "text/plain": [
       "HBox(children=(HTML(value=''), FloatProgress(value=0.0, max=40320.0), HTML(value='')))"
      ]
     },
     "metadata": {},
     "output_type": "display_data"
    },
    {
     "name": "stdout",
     "output_type": "stream",
     "text": [
      "\n",
      "epoch 1 loss: 0.35151252150535583, test hr: 0.6036278132348001, test ndcg: 0.3921154571267811\n"
     ]
    },
    {
     "data": {
      "application/vnd.jupyter.widget-view+json": {
       "model_id": "a0e35636136e4e98969f1c465620d4be",
       "version_major": 2,
       "version_minor": 0
      },
      "text/plain": [
       "HBox(children=(HTML(value=''), FloatProgress(value=0.0, max=40320.0), HTML(value='')))"
      ]
     },
     "metadata": {},
     "output_type": "display_data"
    },
    {
     "name": "stdout",
     "output_type": "stream",
     "text": [
      "\n",
      "epoch 2 loss: 0.29491209983825684, test hr: 0.6224386966745046, test ndcg: 0.41924952349961925\n"
     ]
    },
    {
     "data": {
      "application/vnd.jupyter.widget-view+json": {
       "model_id": "2de0cc67033d448fb29440b2951d230c",
       "version_major": 2,
       "version_minor": 0
      },
      "text/plain": [
       "HBox(children=(HTML(value=''), FloatProgress(value=0.0, max=40320.0), HTML(value='')))"
      ]
     },
     "metadata": {},
     "output_type": "display_data"
    },
    {
     "name": "stdout",
     "output_type": "stream",
     "text": [
      "\n",
      "epoch 3 loss: 0.2856585681438446, test hr: 0.6056432650319113, test ndcg: 0.41133720946137003\n"
     ]
    },
    {
     "data": {
      "application/vnd.jupyter.widget-view+json": {
       "model_id": "5c6b5edd6357494eaef45ef05a4f9a99",
       "version_major": 2,
       "version_minor": 0
      },
      "text/plain": [
       "HBox(children=(HTML(value=''), FloatProgress(value=0.0, max=40320.0), HTML(value='')))"
      ]
     },
     "metadata": {},
     "output_type": "display_data"
    },
    {
     "name": "stdout",
     "output_type": "stream",
     "text": [
      "\n",
      "epoch 4 loss: 0.26921546459198, test hr: 0.5779308028216326, test ndcg: 0.3917590830909779\n"
     ]
    },
    {
     "data": {
      "application/vnd.jupyter.widget-view+json": {
       "model_id": "5a82dc60190245ea857f45f71f964b07",
       "version_major": 2,
       "version_minor": 0
      },
      "text/plain": [
       "HBox(children=(HTML(value=''), FloatProgress(value=0.0, max=40320.0), HTML(value='')))"
      ]
     },
     "metadata": {},
     "output_type": "display_data"
    },
    {
     "name": "stdout",
     "output_type": "stream",
     "text": [
      "\n",
      "epoch 5 loss: 0.24288102984428406, test hr: 0.5688612697346321, test ndcg: 0.3832185103460798\n"
     ]
    },
    {
     "data": {
      "application/vnd.jupyter.widget-view+json": {
       "model_id": "6b0678ffd4634eac9d14fb26fd7d3519",
       "version_major": 2,
       "version_minor": 0
      },
      "text/plain": [
       "HBox(children=(HTML(value=''), FloatProgress(value=0.0, max=40320.0), HTML(value='')))"
      ]
     },
     "metadata": {},
     "output_type": "display_data"
    },
    {
     "name": "stdout",
     "output_type": "stream",
     "text": [
      "\n",
      "epoch 6 loss: 0.21018429100513458, test hr: 0.5606315082297615, test ndcg: 0.3693746430727033\n"
     ]
    },
    {
     "data": {
      "application/vnd.jupyter.widget-view+json": {
       "model_id": "f024841f49344598a5cba612c4ca5cdb",
       "version_major": 2,
       "version_minor": 0
      },
      "text/plain": [
       "HBox(children=(HTML(value=''), FloatProgress(value=0.0, max=40320.0), HTML(value='')))"
      ]
     },
     "metadata": {},
     "output_type": "display_data"
    },
    {
     "name": "stdout",
     "output_type": "stream",
     "text": [
      "\n",
      "epoch 7 loss: 0.177230566740036, test hr: 0.5757473967080954, test ndcg: 0.36965975374413385\n"
     ]
    },
    {
     "data": {
      "application/vnd.jupyter.widget-view+json": {
       "model_id": "7501d088ee2b418a95e521c665bd6049",
       "version_major": 2,
       "version_minor": 0
      },
      "text/plain": [
       "HBox(children=(HTML(value=''), FloatProgress(value=0.0, max=40320.0), HTML(value='')))"
      ]
     },
     "metadata": {},
     "output_type": "display_data"
    },
    {
     "name": "stdout",
     "output_type": "stream",
     "text": [
      "\n",
      "epoch 8 loss: 0.14912430942058563, test hr: 0.5844810211622439, test ndcg: 0.36901428510823947\n"
     ]
    },
    {
     "data": {
      "application/vnd.jupyter.widget-view+json": {
       "model_id": "7accc74f097b4e80ac2aa50df58c5b0b",
       "version_major": 2,
       "version_minor": 0
      },
      "text/plain": [
       "HBox(children=(HTML(value=''), FloatProgress(value=0.0, max=40320.0), HTML(value='')))"
      ]
     },
     "metadata": {},
     "output_type": "display_data"
    },
    {
     "name": "stdout",
     "output_type": "stream",
     "text": [
      "\n",
      "epoch 9 loss: 0.12632933259010315, test hr: 0.5883439704400403, test ndcg: 0.3683329548929555\n"
     ]
    },
    {
     "data": {
      "application/vnd.jupyter.widget-view+json": {
       "model_id": "d80f5d84b6bd4608b3a07450edba91a2",
       "version_major": 2,
       "version_minor": 0
      },
      "text/plain": [
       "HBox(children=(HTML(value=''), FloatProgress(value=0.0, max=40320.0), HTML(value='')))"
      ]
     },
     "metadata": {},
     "output_type": "display_data"
    },
    {
     "name": "stdout",
     "output_type": "stream",
     "text": [
      "\n",
      "epoch 10 loss: 0.10807961225509644, test hr: 0.579106483036614, test ndcg: 0.3527290676150416\n"
     ]
    }
   ],
   "source": [
    "ncf = NCF(max_user_id, max_movieId, 64, 64, [32, 16])\n",
    "ncf = train_model(ncf, train_loader, test_loader, 10, 0.001)"
   ]
  },
  {
   "cell_type": "markdown",
   "metadata": {},
   "source": [
    "# Experiment in the paper"
   ]
  },
  {
   "cell_type": "code",
   "execution_count": 10,
   "metadata": {},
   "outputs": [
    {
     "data": {
      "text/html": [
       "<div>\n",
       "<style scoped>\n",
       "    .dataframe tbody tr th:only-of-type {\n",
       "        vertical-align: middle;\n",
       "    }\n",
       "\n",
       "    .dataframe tbody tr th {\n",
       "        vertical-align: top;\n",
       "    }\n",
       "\n",
       "    .dataframe thead th {\n",
       "        text-align: right;\n",
       "    }\n",
       "</style>\n",
       "<table border=\"1\" class=\"dataframe\">\n",
       "  <thead>\n",
       "    <tr style=\"text-align: right;\">\n",
       "      <th></th>\n",
       "      <th>user_id</th>\n",
       "      <th>item_id</th>\n",
       "      <th>rating</th>\n",
       "      <th>timestamp</th>\n",
       "    </tr>\n",
       "  </thead>\n",
       "  <tbody>\n",
       "    <tr>\n",
       "      <th>1000138</th>\n",
       "      <td>6040</td>\n",
       "      <td>858</td>\n",
       "      <td>4</td>\n",
       "      <td>956703932</td>\n",
       "    </tr>\n",
       "    <tr>\n",
       "      <th>1000153</th>\n",
       "      <td>6040</td>\n",
       "      <td>2384</td>\n",
       "      <td>4</td>\n",
       "      <td>956703954</td>\n",
       "    </tr>\n",
       "    <tr>\n",
       "      <th>999873</th>\n",
       "      <td>6040</td>\n",
       "      <td>593</td>\n",
       "      <td>5</td>\n",
       "      <td>956703954</td>\n",
       "    </tr>\n",
       "    <tr>\n",
       "      <th>1000007</th>\n",
       "      <td>6040</td>\n",
       "      <td>1961</td>\n",
       "      <td>4</td>\n",
       "      <td>956703977</td>\n",
       "    </tr>\n",
       "    <tr>\n",
       "      <th>1000192</th>\n",
       "      <td>6040</td>\n",
       "      <td>2019</td>\n",
       "      <td>5</td>\n",
       "      <td>956703977</td>\n",
       "    </tr>\n",
       "    <tr>\n",
       "      <th>...</th>\n",
       "      <td>...</td>\n",
       "      <td>...</td>\n",
       "      <td>...</td>\n",
       "      <td>...</td>\n",
       "    </tr>\n",
       "    <tr>\n",
       "      <th>825793</th>\n",
       "      <td>4958</td>\n",
       "      <td>2399</td>\n",
       "      <td>1</td>\n",
       "      <td>1046454338</td>\n",
       "    </tr>\n",
       "    <tr>\n",
       "      <th>825438</th>\n",
       "      <td>4958</td>\n",
       "      <td>1407</td>\n",
       "      <td>5</td>\n",
       "      <td>1046454443</td>\n",
       "    </tr>\n",
       "    <tr>\n",
       "      <th>825724</th>\n",
       "      <td>4958</td>\n",
       "      <td>3264</td>\n",
       "      <td>4</td>\n",
       "      <td>1046454548</td>\n",
       "    </tr>\n",
       "    <tr>\n",
       "      <th>825731</th>\n",
       "      <td>4958</td>\n",
       "      <td>2634</td>\n",
       "      <td>3</td>\n",
       "      <td>1046454548</td>\n",
       "    </tr>\n",
       "    <tr>\n",
       "      <th>825603</th>\n",
       "      <td>4958</td>\n",
       "      <td>1924</td>\n",
       "      <td>4</td>\n",
       "      <td>1046454590</td>\n",
       "    </tr>\n",
       "  </tbody>\n",
       "</table>\n",
       "<p>998489 rows × 4 columns</p>\n",
       "</div>"
      ],
      "text/plain": [
       "         user_id  item_id  rating   timestamp\n",
       "1000138     6040      858       4   956703932\n",
       "1000153     6040     2384       4   956703954\n",
       "999873      6040      593       5   956703954\n",
       "1000007     6040     1961       4   956703977\n",
       "1000192     6040     2019       5   956703977\n",
       "...          ...      ...     ...         ...\n",
       "825793      4958     2399       1  1046454338\n",
       "825438      4958     1407       5  1046454443\n",
       "825724      4958     3264       4  1046454548\n",
       "825731      4958     2634       3  1046454548\n",
       "825603      4958     1924       4  1046454590\n",
       "\n",
       "[998489 rows x 4 columns]"
      ]
     },
     "execution_count": 10,
     "metadata": {},
     "output_type": "execute_result"
    }
   ],
   "source": [
    "valid_ratings.sort_values(by=[\"timestamp\"])"
   ]
  },
  {
   "cell_type": "code",
   "execution_count": 11,
   "metadata": {},
   "outputs": [],
   "source": [
    "def generate_train_test(user_choice_dict, negative_count):\n",
    "    X_train, y_train, X_test, y_test = [], [], [], []\n",
    "    for user in user_choice_dict:\n",
    "        viewed_movies = user_choice_dict[user]\n",
    "        negative_sample = np.random.choice([movie for movie in range(1, num_movies+1) if movie not in viewed_movies], negative_count+100)\n",
    "        \n",
    "        #Positive train test split\n",
    "        for movie in viewed_movies[:-1]:\n",
    "            X_train.append([user, movie])\n",
    "            y_train.append(1)\n",
    "        X_test.append([user, viewed_movies[-1]])\n",
    "        y_test.append(1)\n",
    "        \n",
    "        #Negative train test split\n",
    "        for movie in negative_sample[:negative_count]:\n",
    "            X_train.append([user, movie])\n",
    "            y_train.append(0)\n",
    "        for movie in negative_sample[negative_count:]:\n",
    "            X_test.append([user, movie])\n",
    "            y_test.append(0)\n",
    "        \n",
    "    return np.array(X_train), np.array(y_train), np.array(X_test), np.array(y_test)\n",
    "    \n",
    "train_X, train_y, test_X, test_y = generate_train_test(user_choice_dict, 50)"
   ]
  },
  {
   "cell_type": "code",
   "execution_count": 12,
   "metadata": {},
   "outputs": [],
   "source": [
    "train_X, train_y, test_X, test_y = torch.from_numpy(train_X), torch.from_numpy(train_y), torch.from_numpy(test_X), torch.from_numpy(test_y),\n",
    "train_dataset = TensorDataset(train_X, train_y)\n",
    "test_dataset = TensorDataset(test_X, test_y)\n",
    "train_loader = DataLoader(train_dataset, batch_size=32, shuffle=True)\n",
    "test_loader = DataLoader(test_dataset, batch_size=32, shuffle=False)"
   ]
  },
  {
   "cell_type": "code",
   "execution_count": 74,
   "metadata": {},
   "outputs": [
    {
     "name": "stdout",
     "output_type": "stream",
     "text": [
      "epoch 0, test acc: (0.09119919381928115, 0.04032472144764332)\n"
     ]
    },
    {
     "data": {
      "application/vnd.jupyter.widget-view+json": {
       "model_id": "2679083d4aa84d7f8eae71bc714e0ddf",
       "version_major": 2,
       "version_minor": 0
      },
      "text/plain": [
       "HBox(children=(HTML(value=''), FloatProgress(value=0.0, max=40320.0), HTML(value='')))"
      ]
     },
     "metadata": {},
     "output_type": "display_data"
    },
    {
     "name": "stdout",
     "output_type": "stream",
     "text": [
      "\n",
      "epoch 1 loss: 0.3476249575614929, test hr: 0.5945582801477998, test ndcg: 0.3962543592397766\n"
     ]
    },
    {
     "data": {
      "application/vnd.jupyter.widget-view+json": {
       "model_id": "76f095f50c5442aa8e76c18b3a425de8",
       "version_major": 2,
       "version_minor": 0
      },
      "text/plain": [
       "HBox(children=(HTML(value=''), FloatProgress(value=0.0, max=40320.0), HTML(value='')))"
      ]
     },
     "metadata": {},
     "output_type": "display_data"
    },
    {
     "name": "stdout",
     "output_type": "stream",
     "text": [
      "\n",
      "epoch 2 loss: 0.2937599718570709, test hr: 0.6241182398387639, test ndcg: 0.4119669393931554\n"
     ]
    }
   ],
   "source": [
    "ncf = NCF(max_user_id, max_movieId, 64, 64, [32, 16])\n",
    "ncf = train_model(ncf, train_loader, test_loader, 2, 0.001)"
   ]
  },
  {
   "cell_type": "code",
   "execution_count": null,
   "metadata": {},
   "outputs": [],
   "source": []
  }
 ],
 "metadata": {
  "kernelspec": {
   "display_name": "Python 3",
   "language": "python",
   "name": "python3"
  },
  "language_info": {
   "codemirror_mode": {
    "name": "ipython",
    "version": 3
   },
   "file_extension": ".py",
   "mimetype": "text/x-python",
   "name": "python",
   "nbconvert_exporter": "python",
   "pygments_lexer": "ipython3",
   "version": "3.6.9"
  }
 },
 "nbformat": 4,
 "nbformat_minor": 2
}
