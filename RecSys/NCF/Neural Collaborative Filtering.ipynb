{
 "cells": [
  {
   "cell_type": "code",
   "execution_count": 20,
   "metadata": {},
   "outputs": [],
   "source": [
    "import warnings\n",
    "warnings.filterwarnings(\"ignore\")\n",
    "\n",
    "import numpy as np\n",
    "import pandas as pd\n",
    "import matplotlib.pyplot as plt\n",
    "\n",
    "import torch\n",
    "import torch.nn as nn\n",
    "import torch.nn.functional as F\n",
    "from torch.utils.data import DataLoader, Dataset,TensorDataset\n",
    "\n",
    "from tqdm import tqdm_notebook"
   ]
  },
  {
   "cell_type": "markdown",
   "metadata": {},
   "source": [
    "# Model Structure"
   ]
  },
  {
   "cell_type": "code",
   "execution_count": 62,
   "metadata": {},
   "outputs": [],
   "source": [
    "class MF(nn.Module):\n",
    "    def __init__(self, dim, num_users, num_items):\n",
    "        super(MF, self).__init__()\n",
    "        self.user_embeddings = nn.Embedding(num_users+1, dim)\n",
    "        self.item_embeddings = nn.Embedding(num_items+1, dim)\n",
    "        self.linear  = nn.Linear(dim, 1)\n",
    "        self.sigmoid = nn.Sigmoid()\n",
    "        \n",
    "    def forward(self, user_id, item_id):\n",
    "        user_embedding = self.user_embeddings(user_id)\n",
    "        item_embedding = self.item_embeddings(item_id)\n",
    "        \n",
    "        cross_value = user_embedding * item_embedding\n",
    "        return cross_value\n",
    "    \n",
    "class MLP(nn.Module):\n",
    "    def __init__(self, dim, num_users, num_items, layer_sizes):\n",
    "        super(MLP, self).__init__()\n",
    "        self.user_embeddings = nn.Embedding(num_users+1, dim)\n",
    "        self.item_embeddings = nn.Embedding(num_items+1, dim)\n",
    "        \n",
    "        self.linears = []\n",
    "        prev_size = dim * 2\n",
    "        for layer in layer_sizes:\n",
    "            self.linears.append(nn.Linear(prev_size, layer))\n",
    "            prev_size = layer\n",
    "    \n",
    "        self.relu = nn.ReLU()\n",
    "    def forward(self, user_id, item_id):\n",
    "        user_embedding = self.user_embeddings(user_id)\n",
    "        item_embedding = self.item_embeddings(item_id)\n",
    "        \n",
    "        input_embedding = torch.cat((user_embedding, item_embedding), 1)\n",
    "        for linear in self.linears:\n",
    "            input_embedding = linear(input_embedding)\n",
    "            input_embedding = self.relu(input_embedding)\n",
    "        return input_embedding\n",
    "    \n",
    "class NCF(nn.Module):\n",
    "    def __init__(self, num_users, num_items, MF_dim, MLP_dim, MLP_layers):\n",
    "        super(NCF,self).__init__()\n",
    "        self.mf = MF(MF_dim, num_users, num_items)\n",
    "        self.mlp = MLP(MLP_dim, num_users, num_items, MLP_layers)\n",
    "        \n",
    "        self.linear = nn.Linear(MF_dim + MLP_layers[-1], 1)\n",
    "        self.sigmoid = nn.Sigmoid()\n",
    "        \n",
    "    def forward(self, user_id, item_id):\n",
    "        MF_features = self.mf(user_id, item_id)\n",
    "        MLP_features = self.mlp(user_id, item_id)\n",
    "        \n",
    "        input_features = torch.cat((MF_features, MLP_features), 1)\n",
    "        X = self.linear(input_features)\n",
    "        return self.sigmoid(X)"
   ]
  },
  {
   "cell_type": "markdown",
   "metadata": {},
   "source": [
    "# Data"
   ]
  },
  {
   "cell_type": "code",
   "execution_count": 4,
   "metadata": {},
   "outputs": [],
   "source": [
    "movie_1m_ratings = pd.read_csv(\"Data/ml-1m/ratings.dat\", sep=\"::\", names=['user_id', 'item_id', 'rating', 'timestamp'], engine=\"python\")\n",
    "num_users = movie_1m_ratings.user_id.unique().shape[0]\n",
    "num_movies = movie_1m_ratings.item_id.unique().shape[0]"
   ]
  },
  {
   "cell_type": "code",
   "execution_count": 72,
   "metadata": {},
   "outputs": [],
   "source": [
    "max_user_id = max(movie_1m_ratings.user_id)\n",
    "max_movieId = max(movie_1m_ratings.item_id)"
   ]
  },
  {
   "cell_type": "code",
   "execution_count": 5,
   "metadata": {},
   "outputs": [
    {
     "name": "stdout",
     "output_type": "stream",
     "text": [
      "number of users: 6040, number of movies: 3706, sparsity: 0.9553163743776871\n"
     ]
    },
    {
     "data": {
      "text/html": [
       "<div>\n",
       "<style scoped>\n",
       "    .dataframe tbody tr th:only-of-type {\n",
       "        vertical-align: middle;\n",
       "    }\n",
       "\n",
       "    .dataframe tbody tr th {\n",
       "        vertical-align: top;\n",
       "    }\n",
       "\n",
       "    .dataframe thead th {\n",
       "        text-align: right;\n",
       "    }\n",
       "</style>\n",
       "<table border=\"1\" class=\"dataframe\">\n",
       "  <thead>\n",
       "    <tr style=\"text-align: right;\">\n",
       "      <th></th>\n",
       "      <th>user_id</th>\n",
       "      <th>item_id</th>\n",
       "      <th>rating</th>\n",
       "      <th>timestamp</th>\n",
       "    </tr>\n",
       "  </thead>\n",
       "  <tbody>\n",
       "    <tr>\n",
       "      <th>0</th>\n",
       "      <td>1</td>\n",
       "      <td>1193</td>\n",
       "      <td>5</td>\n",
       "      <td>978300760</td>\n",
       "    </tr>\n",
       "    <tr>\n",
       "      <th>1</th>\n",
       "      <td>1</td>\n",
       "      <td>661</td>\n",
       "      <td>3</td>\n",
       "      <td>978302109</td>\n",
       "    </tr>\n",
       "    <tr>\n",
       "      <th>2</th>\n",
       "      <td>1</td>\n",
       "      <td>914</td>\n",
       "      <td>3</td>\n",
       "      <td>978301968</td>\n",
       "    </tr>\n",
       "    <tr>\n",
       "      <th>3</th>\n",
       "      <td>1</td>\n",
       "      <td>3408</td>\n",
       "      <td>4</td>\n",
       "      <td>978300275</td>\n",
       "    </tr>\n",
       "    <tr>\n",
       "      <th>4</th>\n",
       "      <td>1</td>\n",
       "      <td>2355</td>\n",
       "      <td>5</td>\n",
       "      <td>978824291</td>\n",
       "    </tr>\n",
       "  </tbody>\n",
       "</table>\n",
       "</div>"
      ],
      "text/plain": [
       "   user_id  item_id  rating  timestamp\n",
       "0        1     1193       5  978300760\n",
       "1        1      661       3  978302109\n",
       "2        1      914       3  978301968\n",
       "3        1     3408       4  978300275\n",
       "4        1     2355       5  978824291"
      ]
     },
     "execution_count": 5,
     "metadata": {},
     "output_type": "execute_result"
    }
   ],
   "source": [
    "sparsity = 1 - len(movie_1m_ratings) / (num_users * num_movies)\n",
    "print(\"number of users: {}, number of movies: {}, sparsity: {}\".format(num_users, num_movies, sparsity))\n",
    "movie_1m_ratings.head(5)"
   ]
  },
  {
   "cell_type": "code",
   "execution_count": 6,
   "metadata": {},
   "outputs": [],
   "source": [
    "valid_user = []\n",
    "for i, satisfied in enumerate(movie_1m_ratings.groupby(\"user_id\").size() > 20):\n",
    "    if satisfied:\n",
    "        valid_user.append(i+1)"
   ]
  },
  {
   "cell_type": "code",
   "execution_count": 7,
   "metadata": {},
   "outputs": [
    {
     "data": {
      "text/html": [
       "<div>\n",
       "<style scoped>\n",
       "    .dataframe tbody tr th:only-of-type {\n",
       "        vertical-align: middle;\n",
       "    }\n",
       "\n",
       "    .dataframe tbody tr th {\n",
       "        vertical-align: top;\n",
       "    }\n",
       "\n",
       "    .dataframe thead th {\n",
       "        text-align: right;\n",
       "    }\n",
       "</style>\n",
       "<table border=\"1\" class=\"dataframe\">\n",
       "  <thead>\n",
       "    <tr style=\"text-align: right;\">\n",
       "      <th></th>\n",
       "      <th>user_id</th>\n",
       "      <th>item_id</th>\n",
       "      <th>rating</th>\n",
       "      <th>timestamp</th>\n",
       "    </tr>\n",
       "  </thead>\n",
       "  <tbody>\n",
       "    <tr>\n",
       "      <th>0</th>\n",
       "      <td>1</td>\n",
       "      <td>1193</td>\n",
       "      <td>5</td>\n",
       "      <td>978300760</td>\n",
       "    </tr>\n",
       "    <tr>\n",
       "      <th>1</th>\n",
       "      <td>1</td>\n",
       "      <td>661</td>\n",
       "      <td>3</td>\n",
       "      <td>978302109</td>\n",
       "    </tr>\n",
       "    <tr>\n",
       "      <th>2</th>\n",
       "      <td>1</td>\n",
       "      <td>914</td>\n",
       "      <td>3</td>\n",
       "      <td>978301968</td>\n",
       "    </tr>\n",
       "    <tr>\n",
       "      <th>3</th>\n",
       "      <td>1</td>\n",
       "      <td>3408</td>\n",
       "      <td>4</td>\n",
       "      <td>978300275</td>\n",
       "    </tr>\n",
       "    <tr>\n",
       "      <th>4</th>\n",
       "      <td>1</td>\n",
       "      <td>2355</td>\n",
       "      <td>5</td>\n",
       "      <td>978824291</td>\n",
       "    </tr>\n",
       "    <tr>\n",
       "      <th>...</th>\n",
       "      <td>...</td>\n",
       "      <td>...</td>\n",
       "      <td>...</td>\n",
       "      <td>...</td>\n",
       "    </tr>\n",
       "    <tr>\n",
       "      <th>1000204</th>\n",
       "      <td>6040</td>\n",
       "      <td>1091</td>\n",
       "      <td>1</td>\n",
       "      <td>956716541</td>\n",
       "    </tr>\n",
       "    <tr>\n",
       "      <th>1000205</th>\n",
       "      <td>6040</td>\n",
       "      <td>1094</td>\n",
       "      <td>5</td>\n",
       "      <td>956704887</td>\n",
       "    </tr>\n",
       "    <tr>\n",
       "      <th>1000206</th>\n",
       "      <td>6040</td>\n",
       "      <td>562</td>\n",
       "      <td>5</td>\n",
       "      <td>956704746</td>\n",
       "    </tr>\n",
       "    <tr>\n",
       "      <th>1000207</th>\n",
       "      <td>6040</td>\n",
       "      <td>1096</td>\n",
       "      <td>4</td>\n",
       "      <td>956715648</td>\n",
       "    </tr>\n",
       "    <tr>\n",
       "      <th>1000208</th>\n",
       "      <td>6040</td>\n",
       "      <td>1097</td>\n",
       "      <td>4</td>\n",
       "      <td>956715569</td>\n",
       "    </tr>\n",
       "  </tbody>\n",
       "</table>\n",
       "<p>998489 rows × 4 columns</p>\n",
       "</div>"
      ],
      "text/plain": [
       "         user_id  item_id  rating  timestamp\n",
       "0              1     1193       5  978300760\n",
       "1              1      661       3  978302109\n",
       "2              1      914       3  978301968\n",
       "3              1     3408       4  978300275\n",
       "4              1     2355       5  978824291\n",
       "...          ...      ...     ...        ...\n",
       "1000204     6040     1091       1  956716541\n",
       "1000205     6040     1094       5  956704887\n",
       "1000206     6040      562       5  956704746\n",
       "1000207     6040     1096       4  956715648\n",
       "1000208     6040     1097       4  956715569\n",
       "\n",
       "[998489 rows x 4 columns]"
      ]
     },
     "execution_count": 7,
     "metadata": {},
     "output_type": "execute_result"
    }
   ],
   "source": [
    "valid_ratings = movie_1m_ratings[movie_1m_ratings.user_id.isin(valid_user)]\n",
    "valid_ratings"
   ]
  },
  {
   "cell_type": "code",
   "execution_count": 16,
   "metadata": {},
   "outputs": [],
   "source": [
    "user_choice_dict = {}\n",
    "for _, rating in valid_ratings.iterrows():\n",
    "    user, item = rating[\"user_id\"], rating[\"item_id\"]\n",
    "    if user not in user_choice_dict:\n",
    "        user_choice_dict[user] = []\n",
    "    user_choice_dict[user].append(item)\n",
    "    \n",
    "def generate_train_test(user_choice_dict, train_ratio, negative_count):\n",
    "    X_train, y_train, X_test, y_test = [], [], [], []\n",
    "    for user in user_choice_dict:\n",
    "        viewed_movies = user_choice_dict[user]\n",
    "        negative_sample = np.random.choice([movie for movie in range(1, num_movies+1) if movie not in viewed_movies], negative_count)\n",
    "        \n",
    "        #Positive train test split\n",
    "        train_size, test_size = int(len(viewed_movies) * train_ratio), len(viewed_movies) - int(len(viewed_movies) * train_ratio)\n",
    "        for movie in viewed_movies[:train_size]:\n",
    "            X_train.append([user, movie])\n",
    "            y_train.append(1)\n",
    "        for movie in viewed_movies[:test_size]:\n",
    "            X_test.append([user, movie])\n",
    "            y_test.append(1)\n",
    "        \n",
    "        #Negative train test split\n",
    "        train_neg_size, test_neg_size = int(len(negative_sample) * train_ratio), len(negative_sample) - int(len(negative_sample) * train_ratio)\n",
    "        for movie in negative_sample[:train_size]:\n",
    "            X_train.append([user, movie])\n",
    "            y_train.append(0)\n",
    "        for movie in negative_sample[:test_size]:\n",
    "            X_test.append([user, movie])\n",
    "            y_test.append(0)\n",
    "        \n",
    "    return np.array(X_train), np.array(y_train), np.array(X_test), np.array(y_test)\n",
    "    \n",
    "train_X, train_y, test_X, test_y = generate_train_test(user_choice_dict, 0.9, 100)"
   ]
  },
  {
   "cell_type": "code",
   "execution_count": 51,
   "metadata": {},
   "outputs": [],
   "source": [
    "train_X, train_y, test_X, test_y = torch.from_numpy(train_X), torch.from_numpy(train_y), torch.from_numpy(test_X), torch.from_numpy(test_y),\n",
    "train_dataset = TensorDataset(train_X, train_y)\n",
    "test_dataset = TensorDataset(test_X, test_y)"
   ]
  },
  {
   "cell_type": "code",
   "execution_count": 52,
   "metadata": {},
   "outputs": [],
   "source": [
    "train_loader = DataLoader(train_dataset, batch_size=32, shuffle=True)\n",
    "test_loader = DataLoader(test_dataset, batch_size=32, shuffle=False)"
   ]
  },
  {
   "cell_type": "code",
   "execution_count": 128,
   "metadata": {},
   "outputs": [],
   "source": [
    "def accuarcy(y_pred, y_true):\n",
    "    return ((y_pred > 0.5) == y_true).float().mean()\n",
    "\n",
    "def train_model(model, train_loader, test_loader, max_epoch, lr):\n",
    "    loss_fn = nn.BCELoss()\n",
    "    optimizer = torch.optim.Adam(model.parameters(), lr)\n",
    "    epoch_acc = evaluate(model, test_loader)\n",
    "    print(\"epoch {}, test acc: {}\".format(0, epoch_acc))\n",
    "    for epoch in range(max_epoch):\n",
    "        epoch_loss = 0\n",
    "        step = 0\n",
    "        \n",
    "        for batch, labels in tqdm_notebook(train_loader):\n",
    "            y_pred = model(batch[:, 0], batch[:, 1])\n",
    "            loss = loss_fn(y_pred, labels.float())\n",
    "            epoch_loss += loss\n",
    "            \n",
    "            optimizer.zero_grad()\n",
    "            loss.backward()\n",
    "            optimizer.step()\n",
    "            \n",
    "            step += 1\n",
    "        epoch_acc = evaluate(model, test_loader)\n",
    "        print(\"epoch {} loss: {}, test acc: {}\".format(epoch+1, epoch_loss / step, epoch_acc))\n",
    "        \n",
    "    return model\n",
    "\n",
    "def evaluate(model, test_loader):\n",
    "    users, movies, prediction, ground_true = [], [], [], []\n",
    "    accs = []\n",
    "    with torch.no_grad():\n",
    "        for batch, label in test_loader:\n",
    "            y_pred = model(batch[:, 0], batch[:, 1])\n",
    "            \n",
    "            users.append(batch[:, 0])\n",
    "            movies.append(batch[:, 1])\n",
    "            prediction.append(y_pred)\n",
    "            ground_true.append(label)\n",
    "    users = torch.cat(users)\n",
    "    movies = torch.cat(movies)\n",
    "    prediction = torch.cat(prediction).squeeze()\n",
    "    ground_true = torch.cat(ground_true)\n",
    "    #print(prediction.shape)\n",
    "    acc = accuarcy(prediction, ground_true)\n",
    "    return acc"
   ]
  },
  {
   "cell_type": "code",
   "execution_count": 130,
   "metadata": {},
   "outputs": [
    {
     "name": "stdout",
     "output_type": "stream",
     "text": [
      "epoch 0, test acc: 0.4986320734024048\n"
     ]
    },
    {
     "data": {
      "application/vnd.jupyter.widget-view+json": {
       "model_id": "f1ae72fe41844a4299ca212ff1259179",
       "version_major": 2,
       "version_minor": 0
      },
      "text/plain": [
       "HBox(children=(HTML(value=''), FloatProgress(value=0.0, max=36208.0), HTML(value='')))"
      ]
     },
     "metadata": {},
     "output_type": "display_data"
    },
    {
     "name": "stdout",
     "output_type": "stream",
     "text": [
      "\n",
      "epoch 1 loss: 0.3584807217121124, test acc: 0.7572786211967468\n"
     ]
    },
    {
     "data": {
      "application/vnd.jupyter.widget-view+json": {
       "model_id": "995e8d8e872d4884a0fc221420ad2934",
       "version_major": 2,
       "version_minor": 0
      },
      "text/plain": [
       "HBox(children=(HTML(value=''), FloatProgress(value=0.0, max=36208.0), HTML(value='')))"
      ]
     },
     "metadata": {},
     "output_type": "display_data"
    },
    {
     "name": "stdout",
     "output_type": "stream",
     "text": [
      "\n",
      "epoch 2 loss: 0.2996557056903839, test acc: 0.7574368715286255\n"
     ]
    },
    {
     "data": {
      "application/vnd.jupyter.widget-view+json": {
       "model_id": "1d48f50086454ac5a623d9498ddfc718",
       "version_major": 2,
       "version_minor": 0
      },
      "text/plain": [
       "HBox(children=(HTML(value=''), FloatProgress(value=0.0, max=36208.0), HTML(value='')))"
      ]
     },
     "metadata": {},
     "output_type": "display_data"
    },
    {
     "name": "stdout",
     "output_type": "stream",
     "text": [
      "\n",
      "epoch 3 loss: 0.2904259264469147, test acc: 0.7621378302574158\n"
     ]
    },
    {
     "data": {
      "application/vnd.jupyter.widget-view+json": {
       "model_id": "1d8fb51a799642e3ab1090c9ee1c85b4",
       "version_major": 2,
       "version_minor": 0
      },
      "text/plain": [
       "HBox(children=(HTML(value=''), FloatProgress(value=0.0, max=36208.0), HTML(value='')))"
      ]
     },
     "metadata": {},
     "output_type": "display_data"
    },
    {
     "name": "stdout",
     "output_type": "stream",
     "text": [
      "\n",
      "epoch 4 loss: 0.2762939929962158, test acc: 0.7817840576171875\n"
     ]
    },
    {
     "data": {
      "application/vnd.jupyter.widget-view+json": {
       "model_id": "5c276a7e7e8b4e5b9d8e9097093348ca",
       "version_major": 2,
       "version_minor": 0
      },
      "text/plain": [
       "HBox(children=(HTML(value=''), FloatProgress(value=0.0, max=36208.0), HTML(value='')))"
      ]
     },
     "metadata": {},
     "output_type": "display_data"
    },
    {
     "name": "stdout",
     "output_type": "stream",
     "text": [
      "\n",
      "epoch 5 loss: 0.2523176670074463, test acc: 0.8115314841270447\n"
     ]
    },
    {
     "data": {
      "application/vnd.jupyter.widget-view+json": {
       "model_id": "7d6a716e9ad64e11ac5968bc43cf1bad",
       "version_major": 2,
       "version_minor": 0
      },
      "text/plain": [
       "HBox(children=(HTML(value=''), FloatProgress(value=0.0, max=36208.0), HTML(value='')))"
      ]
     },
     "metadata": {},
     "output_type": "display_data"
    },
    {
     "name": "stdout",
     "output_type": "stream",
     "text": [
      "\n",
      "epoch 6 loss: 0.22091038525104523, test acc: 0.8432491421699524\n"
     ]
    },
    {
     "data": {
      "application/vnd.jupyter.widget-view+json": {
       "model_id": "9e2816cace39458fb76259b9e365c243",
       "version_major": 2,
       "version_minor": 0
      },
      "text/plain": [
       "HBox(children=(HTML(value=''), FloatProgress(value=0.0, max=36208.0), HTML(value='')))"
      ]
     },
     "metadata": {},
     "output_type": "display_data"
    },
    {
     "name": "stdout",
     "output_type": "stream",
     "text": [
      "\n",
      "epoch 7 loss: 0.1875162124633789, test acc: 0.8723279237747192\n"
     ]
    },
    {
     "data": {
      "application/vnd.jupyter.widget-view+json": {
       "model_id": "c95c973994644053b5fff3f6a074a1d7",
       "version_major": 2,
       "version_minor": 0
      },
      "text/plain": [
       "HBox(children=(HTML(value=''), FloatProgress(value=0.0, max=36208.0), HTML(value='')))"
      ]
     },
     "metadata": {},
     "output_type": "display_data"
    },
    {
     "name": "stdout",
     "output_type": "stream",
     "text": [
      "\n",
      "epoch 8 loss: 0.1571355015039444, test acc: 0.8996355533599854\n"
     ]
    },
    {
     "data": {
      "application/vnd.jupyter.widget-view+json": {
       "model_id": "58dce58f39c34f91be8b76db83bbfeaf",
       "version_major": 2,
       "version_minor": 0
      },
      "text/plain": [
       "HBox(children=(HTML(value=''), FloatProgress(value=0.0, max=36208.0), HTML(value='')))"
      ]
     },
     "metadata": {},
     "output_type": "display_data"
    },
    {
     "name": "stdout",
     "output_type": "stream",
     "text": [
      "\n",
      "epoch 9 loss: 0.13143780827522278, test acc: 0.9151830673217773\n"
     ]
    },
    {
     "data": {
      "application/vnd.jupyter.widget-view+json": {
       "model_id": "37b03e7fec5e471e944d11daa9aa0cbd",
       "version_major": 2,
       "version_minor": 0
      },
      "text/plain": [
       "HBox(children=(HTML(value=''), FloatProgress(value=0.0, max=36208.0), HTML(value='')))"
      ]
     },
     "metadata": {},
     "output_type": "display_data"
    },
    {
     "name": "stdout",
     "output_type": "stream",
     "text": [
      "\n",
      "epoch 10 loss: 0.11054947972297668, test acc: 0.9335684776306152\n"
     ]
    }
   ],
   "source": [
    "ncf = NCF(max_user_id, max_movieId, 64, 64, [32, 16])\n",
    "ncf = train_model(ncf, train_loader, test_loader, 10, 0.001)"
   ]
  },
  {
   "cell_type": "code",
   "execution_count": null,
   "metadata": {},
   "outputs": [],
   "source": []
  }
 ],
 "metadata": {
  "kernelspec": {
   "display_name": "Python 3",
   "language": "python",
   "name": "python3"
  },
  "language_info": {
   "codemirror_mode": {
    "name": "ipython",
    "version": 3
   },
   "file_extension": ".py",
   "mimetype": "text/x-python",
   "name": "python",
   "nbconvert_exporter": "python",
   "pygments_lexer": "ipython3",
   "version": "3.6.9"
  }
 },
 "nbformat": 4,
 "nbformat_minor": 2
}
